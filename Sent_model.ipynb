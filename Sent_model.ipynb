{
 "cells": [
  {
   "cell_type": "code",
   "execution_count": 2,
   "id": "96d6359c",
   "metadata": {},
   "outputs": [],
   "source": [
    "import numpy as np\n",
    "import pandas as pd\n",
    "import seaborn as sn\n",
    "import matplotlib.pyplot as plt\n",
    "\n",
    "np.random.seed(1)\n",
    "\n",
    "from sklearn.feature_extraction.text import CountVectorizer, TfidfVectorizer\n",
    "from sklearn.linear_model import LogisticRegression\n",
    "from sklearn.metrics import roc_auc_score, f1_score, confusion_matrix\n",
    "from sklearn.model_selection import train_test_split"
   ]
  },
  {
   "cell_type": "code",
   "execution_count": 3,
   "id": "e53ed89f",
   "metadata": {},
   "outputs": [],
   "source": [
    "df_ = pd.read_csv(r\"D:\\Nikunj\\Projects\\New folder\\sentiment\\tinder_google_play_reviews.csv\")"
   ]
  },
  {
   "cell_type": "code",
   "execution_count": 4,
   "id": "d7b74eea",
   "metadata": {},
   "outputs": [
    {
     "data": {
      "text/html": [
       "<div>\n",
       "<style scoped>\n",
       "    .dataframe tbody tr th:only-of-type {\n",
       "        vertical-align: middle;\n",
       "    }\n",
       "\n",
       "    .dataframe tbody tr th {\n",
       "        vertical-align: top;\n",
       "    }\n",
       "\n",
       "    .dataframe thead th {\n",
       "        text-align: right;\n",
       "    }\n",
       "</style>\n",
       "<table border=\"1\" class=\"dataframe\">\n",
       "  <thead>\n",
       "    <tr style=\"text-align: right;\">\n",
       "      <th></th>\n",
       "      <th>reviewId</th>\n",
       "      <th>userName</th>\n",
       "      <th>userImage</th>\n",
       "      <th>content</th>\n",
       "      <th>score</th>\n",
       "      <th>thumbsUpCount</th>\n",
       "      <th>reviewCreatedVersion</th>\n",
       "      <th>at</th>\n",
       "      <th>replyContent</th>\n",
       "      <th>repliedAt</th>\n",
       "      <th>appVersion</th>\n",
       "    </tr>\n",
       "  </thead>\n",
       "  <tbody>\n",
       "    <tr>\n",
       "      <th>0</th>\n",
       "      <td>38335c6a-c4f5-458e-be0f-7857c7f9aab2</td>\n",
       "      <td>Mi55ed_m3</td>\n",
       "      <td>https://play-lh.googleusercontent.com/a-/ALV-U...</td>\n",
       "      <td>Why do I have to pay to see who likes me and m...</td>\n",
       "      <td>1</td>\n",
       "      <td>0</td>\n",
       "      <td>15.0.0</td>\n",
       "      <td>2024-02-02 00:25:11</td>\n",
       "      <td>Thanks for sharing this. We’re sorry to hear a...</td>\n",
       "      <td>2024-02-02 01:10:09</td>\n",
       "      <td>15.0.0</td>\n",
       "    </tr>\n",
       "    <tr>\n",
       "      <th>1</th>\n",
       "      <td>f8d06b30-581c-4a40-9f51-c08f0696b534</td>\n",
       "      <td>John Cusimano</td>\n",
       "      <td>https://play-lh.googleusercontent.com/a-/ALV-U...</td>\n",
       "      <td>(I didn't talk negative about tinder, I actual...</td>\n",
       "      <td>5</td>\n",
       "      <td>0</td>\n",
       "      <td>15.0.0</td>\n",
       "      <td>2024-02-02 00:16:12</td>\n",
       "      <td>Thank you for your comment. We're sorry you di...</td>\n",
       "      <td>2024-02-03 00:12:34</td>\n",
       "      <td>15.0.0</td>\n",
       "    </tr>\n",
       "    <tr>\n",
       "      <th>2</th>\n",
       "      <td>e59611ec-fd96-4779-949b-0e774b68ff52</td>\n",
       "      <td>Wisdom Afoolweakness</td>\n",
       "      <td>https://play-lh.googleusercontent.com/a-/ALV-U...</td>\n",
       "      <td>To many micro transactions looks like this app...</td>\n",
       "      <td>1</td>\n",
       "      <td>0</td>\n",
       "      <td>15.0.0</td>\n",
       "      <td>2024-02-02 00:07:47</td>\n",
       "      <td>NaN</td>\n",
       "      <td>NaN</td>\n",
       "      <td>15.0.0</td>\n",
       "    </tr>\n",
       "    <tr>\n",
       "      <th>3</th>\n",
       "      <td>e3501caf-6f2e-4df9-a523-83199d31b810</td>\n",
       "      <td>Luke Taylor</td>\n",
       "      <td>https://play-lh.googleusercontent.com/a-/ALV-U...</td>\n",
       "      <td>Got a lot of matches in the first hour then no...</td>\n",
       "      <td>2</td>\n",
       "      <td>0</td>\n",
       "      <td>NaN</td>\n",
       "      <td>2024-02-02 00:06:53</td>\n",
       "      <td>NaN</td>\n",
       "      <td>NaN</td>\n",
       "      <td>NaN</td>\n",
       "    </tr>\n",
       "    <tr>\n",
       "      <th>4</th>\n",
       "      <td>57a3a20c-b5e8-4961-bbaa-2f5074752689</td>\n",
       "      <td>Hanna Maes</td>\n",
       "      <td>https://play-lh.googleusercontent.com/a-/ALV-U...</td>\n",
       "      <td>tinder gives you the chance to kick the bad on...</td>\n",
       "      <td>5</td>\n",
       "      <td>0</td>\n",
       "      <td>15.0.0</td>\n",
       "      <td>2024-02-01 23:40:19</td>\n",
       "      <td>Sorry to hear you’re having a negative experie...</td>\n",
       "      <td>2024-02-01 23:50:28</td>\n",
       "      <td>15.0.0</td>\n",
       "    </tr>\n",
       "  </tbody>\n",
       "</table>\n",
       "</div>"
      ],
      "text/plain": [
       "                               reviewId              userName  \\\n",
       "0  38335c6a-c4f5-458e-be0f-7857c7f9aab2             Mi55ed_m3   \n",
       "1  f8d06b30-581c-4a40-9f51-c08f0696b534         John Cusimano   \n",
       "2  e59611ec-fd96-4779-949b-0e774b68ff52  Wisdom Afoolweakness   \n",
       "3  e3501caf-6f2e-4df9-a523-83199d31b810           Luke Taylor   \n",
       "4  57a3a20c-b5e8-4961-bbaa-2f5074752689            Hanna Maes   \n",
       "\n",
       "                                           userImage  \\\n",
       "0  https://play-lh.googleusercontent.com/a-/ALV-U...   \n",
       "1  https://play-lh.googleusercontent.com/a-/ALV-U...   \n",
       "2  https://play-lh.googleusercontent.com/a-/ALV-U...   \n",
       "3  https://play-lh.googleusercontent.com/a-/ALV-U...   \n",
       "4  https://play-lh.googleusercontent.com/a-/ALV-U...   \n",
       "\n",
       "                                             content  score  thumbsUpCount  \\\n",
       "0  Why do I have to pay to see who likes me and m...      1              0   \n",
       "1  (I didn't talk negative about tinder, I actual...      5              0   \n",
       "2  To many micro transactions looks like this app...      1              0   \n",
       "3  Got a lot of matches in the first hour then no...      2              0   \n",
       "4  tinder gives you the chance to kick the bad on...      5              0   \n",
       "\n",
       "  reviewCreatedVersion                   at  \\\n",
       "0               15.0.0  2024-02-02 00:25:11   \n",
       "1               15.0.0  2024-02-02 00:16:12   \n",
       "2               15.0.0  2024-02-02 00:07:47   \n",
       "3                  NaN  2024-02-02 00:06:53   \n",
       "4               15.0.0  2024-02-01 23:40:19   \n",
       "\n",
       "                                        replyContent            repliedAt  \\\n",
       "0  Thanks for sharing this. We’re sorry to hear a...  2024-02-02 01:10:09   \n",
       "1  Thank you for your comment. We're sorry you di...  2024-02-03 00:12:34   \n",
       "2                                                NaN                  NaN   \n",
       "3                                                NaN                  NaN   \n",
       "4  Sorry to hear you’re having a negative experie...  2024-02-01 23:50:28   \n",
       "\n",
       "  appVersion  \n",
       "0     15.0.0  \n",
       "1     15.0.0  \n",
       "2     15.0.0  \n",
       "3        NaN  \n",
       "4     15.0.0  "
      ]
     },
     "execution_count": 4,
     "metadata": {},
     "output_type": "execute_result"
    }
   ],
   "source": [
    "df_.head()"
   ]
  },
  {
   "cell_type": "code",
   "execution_count": 5,
   "id": "75153041",
   "metadata": {},
   "outputs": [
    {
     "data": {
      "text/html": [
       "<div>\n",
       "<style scoped>\n",
       "    .dataframe tbody tr th:only-of-type {\n",
       "        vertical-align: middle;\n",
       "    }\n",
       "\n",
       "    .dataframe tbody tr th {\n",
       "        vertical-align: top;\n",
       "    }\n",
       "\n",
       "    .dataframe thead th {\n",
       "        text-align: right;\n",
       "    }\n",
       "</style>\n",
       "<table border=\"1\" class=\"dataframe\">\n",
       "  <thead>\n",
       "    <tr style=\"text-align: right;\">\n",
       "      <th></th>\n",
       "      <th>score</th>\n",
       "      <th>content</th>\n",
       "    </tr>\n",
       "  </thead>\n",
       "  <tbody>\n",
       "    <tr>\n",
       "      <th>0</th>\n",
       "      <td>1</td>\n",
       "      <td>Why do I have to pay to see who likes me and m...</td>\n",
       "    </tr>\n",
       "    <tr>\n",
       "      <th>1</th>\n",
       "      <td>5</td>\n",
       "      <td>(I didn't talk negative about tinder, I actual...</td>\n",
       "    </tr>\n",
       "    <tr>\n",
       "      <th>2</th>\n",
       "      <td>1</td>\n",
       "      <td>To many micro transactions looks like this app...</td>\n",
       "    </tr>\n",
       "    <tr>\n",
       "      <th>3</th>\n",
       "      <td>2</td>\n",
       "      <td>Got a lot of matches in the first hour then no...</td>\n",
       "    </tr>\n",
       "    <tr>\n",
       "      <th>4</th>\n",
       "      <td>5</td>\n",
       "      <td>tinder gives you the chance to kick the bad on...</td>\n",
       "    </tr>\n",
       "  </tbody>\n",
       "</table>\n",
       "</div>"
      ],
      "text/plain": [
       "   score                                            content\n",
       "0      1  Why do I have to pay to see who likes me and m...\n",
       "1      5  (I didn't talk negative about tinder, I actual...\n",
       "2      1  To many micro transactions looks like this app...\n",
       "3      2  Got a lot of matches in the first hour then no...\n",
       "4      5  tinder gives you the chance to kick the bad on..."
      ]
     },
     "execution_count": 5,
     "metadata": {},
     "output_type": "execute_result"
    }
   ],
   "source": [
    "df =df_[['score', 'content']].copy()\n",
    "\n",
    "df.head()"
   ]
  },
  {
   "cell_type": "code",
   "execution_count": 6,
   "id": "0e38d204",
   "metadata": {},
   "outputs": [
    {
     "data": {
      "text/plain": [
       "<Axes: >"
      ]
     },
     "execution_count": 6,
     "metadata": {},
     "output_type": "execute_result"
    },
    {
     "data": {
      "image/png": "[encoded data removed]",
      "text/plain": [
       "<Figure size 640x480 with 1 Axes>"
      ]
     },
     "metadata": {},
     "output_type": "display_data"
    }
   ],
   "source": [
    "df['score'].hist()"
   ]
  },
  {
   "cell_type": "code",
   "execution_count": 7,
   "id": "de6b1aea",
   "metadata": {},
   "outputs": [
    {
     "name": "stdout",
     "output_type": "stream",
     "text": [
      "                                                  content sentiment\n",
      "0       Why do I have to pay to see who likes me and m...  Negative\n",
      "1       (I didn't talk negative about tinder, I actual...  Positive\n",
      "2       To many micro transactions looks like this app...  Negative\n",
      "3       Got a lot of matches in the first hour then no...  Negative\n",
      "4       tinder gives you the chance to kick the bad on...  Positive\n",
      "...                                                   ...       ...\n",
      "604358                                          Well done  Positive\n",
      "604359                       Met some cool girls on here.  Positive\n",
      "604360  Good idea but it fails when trying to upload n...   Neutral\n",
      "604361                     Fun but the chat is super slow  Positive\n",
      "604362                            Great fun addictive app  Positive\n",
      "\n",
      "[604363 rows x 2 columns]\n"
     ]
    }
   ],
   "source": [
    "def map_sentiment(score):\n",
    "    if score >= 4:\n",
    "        return 'Positive'\n",
    "    elif score == 3:\n",
    "        return 'Neutral'\n",
    "    else:\n",
    "        return 'Negative'\n",
    "\n",
    "df['sentiment'] = df['score'].apply(map_sentiment)\n",
    "\n",
    "# Drop the original 'score' column if needed\n",
    "df.drop('score', axis=1, inplace=True)\n",
    "\n",
    "# Display the DataFrame\n",
    "print(df)"
   ]
  },
  {
   "cell_type": "code",
   "execution_count": 8,
   "id": "d2cf73bf",
   "metadata": {},
   "outputs": [
    {
     "data": {
      "text/plain": [
       "<Axes: >"
      ]
     },
     "execution_count": 8,
     "metadata": {},
     "output_type": "execute_result"
    },
    {
     "data": {
      "image/png": "[encoded data removed]",
      "text/plain": [
       "<Figure size 640x480 with 1 Axes>"
      ]
     },
     "metadata": {},
     "output_type": "display_data"
    }
   ],
   "source": [
    "df['sentiment'].hist()"
   ]
  },
  {
   "cell_type": "code",
   "execution_count": 9,
   "id": "cc412388",
   "metadata": {},
   "outputs": [],
   "source": [
    "target_map = {'Positive' : 1, 'Negative':0, 'Neutral':2}\n",
    "df['target'] = df['sentiment'].map(target_map)"
   ]
  },
  {
   "cell_type": "code",
   "execution_count": 10,
   "id": "a38bfb12",
   "metadata": {},
   "outputs": [
    {
     "data": {
      "text/html": [
       "<div>\n",
       "<style scoped>\n",
       "    .dataframe tbody tr th:only-of-type {\n",
       "        vertical-align: middle;\n",
       "    }\n",
       "\n",
       "    .dataframe tbody tr th {\n",
       "        vertical-align: top;\n",
       "    }\n",
       "\n",
       "    .dataframe thead th {\n",
       "        text-align: right;\n",
       "    }\n",
       "</style>\n",
       "<table border=\"1\" class=\"dataframe\">\n",
       "  <thead>\n",
       "    <tr style=\"text-align: right;\">\n",
       "      <th></th>\n",
       "      <th>content</th>\n",
       "      <th>sentiment</th>\n",
       "      <th>target</th>\n",
       "    </tr>\n",
       "  </thead>\n",
       "  <tbody>\n",
       "    <tr>\n",
       "      <th>0</th>\n",
       "      <td>Why do I have to pay to see who likes me and m...</td>\n",
       "      <td>Negative</td>\n",
       "      <td>0</td>\n",
       "    </tr>\n",
       "    <tr>\n",
       "      <th>1</th>\n",
       "      <td>(I didn't talk negative about tinder, I actual...</td>\n",
       "      <td>Positive</td>\n",
       "      <td>1</td>\n",
       "    </tr>\n",
       "    <tr>\n",
       "      <th>2</th>\n",
       "      <td>To many micro transactions looks like this app...</td>\n",
       "      <td>Negative</td>\n",
       "      <td>0</td>\n",
       "    </tr>\n",
       "    <tr>\n",
       "      <th>3</th>\n",
       "      <td>Got a lot of matches in the first hour then no...</td>\n",
       "      <td>Negative</td>\n",
       "      <td>0</td>\n",
       "    </tr>\n",
       "    <tr>\n",
       "      <th>4</th>\n",
       "      <td>tinder gives you the chance to kick the bad on...</td>\n",
       "      <td>Positive</td>\n",
       "      <td>1</td>\n",
       "    </tr>\n",
       "  </tbody>\n",
       "</table>\n",
       "</div>"
      ],
      "text/plain": [
       "                                             content sentiment  target\n",
       "0  Why do I have to pay to see who likes me and m...  Negative       0\n",
       "1  (I didn't talk negative about tinder, I actual...  Positive       1\n",
       "2  To many micro transactions looks like this app...  Negative       0\n",
       "3  Got a lot of matches in the first hour then no...  Negative       0\n",
       "4  tinder gives you the chance to kick the bad on...  Positive       1"
      ]
     },
     "execution_count": 10,
     "metadata": {},
     "output_type": "execute_result"
    }
   ],
   "source": [
    "df.head()"
   ]
  },
  {
   "cell_type": "code",
   "execution_count": 11,
   "id": "5eb275d2",
   "metadata": {},
   "outputs": [],
   "source": [
    "df_train, df_test= train_test_split(df)"
   ]
  },
  {
   "cell_type": "code",
   "execution_count": 12,
   "id": "f18dbc99",
   "metadata": {},
   "outputs": [
    {
     "data": {
      "text/html": [
       "<div>\n",
       "<style scoped>\n",
       "    .dataframe tbody tr th:only-of-type {\n",
       "        vertical-align: middle;\n",
       "    }\n",
       "\n",
       "    .dataframe tbody tr th {\n",
       "        vertical-align: top;\n",
       "    }\n",
       "\n",
       "    .dataframe thead th {\n",
       "        text-align: right;\n",
       "    }\n",
       "</style>\n",
       "<table border=\"1\" class=\"dataframe\">\n",
       "  <thead>\n",
       "    <tr style=\"text-align: right;\">\n",
       "      <th></th>\n",
       "      <th>content</th>\n",
       "      <th>sentiment</th>\n",
       "      <th>target</th>\n",
       "    </tr>\n",
       "  </thead>\n",
       "  <tbody>\n",
       "    <tr>\n",
       "      <th>294695</th>\n",
       "      <td>Loving the app, connectd you to a category of ...</td>\n",
       "      <td>Neutral</td>\n",
       "      <td>2</td>\n",
       "    </tr>\n",
       "    <tr>\n",
       "      <th>174055</th>\n",
       "      <td>Fake, very poor app, after making payment ever...</td>\n",
       "      <td>Negative</td>\n",
       "      <td>0</td>\n",
       "    </tr>\n",
       "    <tr>\n",
       "      <th>124513</th>\n",
       "      <td>Extreme</td>\n",
       "      <td>Positive</td>\n",
       "      <td>1</td>\n",
       "    </tr>\n",
       "    <tr>\n",
       "      <th>293399</th>\n",
       "      <td>Alright I Guess Notifications on an Oppo devic...</td>\n",
       "      <td>Neutral</td>\n",
       "      <td>2</td>\n",
       "    </tr>\n",
       "    <tr>\n",
       "      <th>417575</th>\n",
       "      <td>Cant log in to facebook..... I triedit many times</td>\n",
       "      <td>Negative</td>\n",
       "      <td>0</td>\n",
       "    </tr>\n",
       "  </tbody>\n",
       "</table>\n",
       "</div>"
      ],
      "text/plain": [
       "                                                  content sentiment  target\n",
       "294695  Loving the app, connectd you to a category of ...   Neutral       2\n",
       "174055  Fake, very poor app, after making payment ever...  Negative       0\n",
       "124513                                            Extreme  Positive       1\n",
       "293399  Alright I Guess Notifications on an Oppo devic...   Neutral       2\n",
       "417575  Cant log in to facebook..... I triedit many times  Negative       0"
      ]
     },
     "execution_count": 12,
     "metadata": {},
     "output_type": "execute_result"
    }
   ],
   "source": [
    "df_train.head()"
   ]
  },
  {
   "cell_type": "code",
   "execution_count": 13,
   "id": "436505c6",
   "metadata": {},
   "outputs": [],
   "source": [
    "vectorizer = TfidfVectorizer(max_features=2000)"
   ]
  },
  {
   "cell_type": "code",
   "execution_count": 16,
   "id": "0865b0f0",
   "metadata": {},
   "outputs": [],
   "source": [
    "X_train = vectorizer.fit_transform(df_train['content'].values.astype('U'))"
   ]
  },
  {
   "cell_type": "code",
   "execution_count": 17,
   "id": "6f475a92",
   "metadata": {},
   "outputs": [
    {
     "data": {
      "text/plain": [
       "<453272x2000 sparse matrix of type '<class 'numpy.float64'>'\n",
       "\twith 5330614 stored elements in Compressed Sparse Row format>"
      ]
     },
     "execution_count": 17,
     "metadata": {},
     "output_type": "execute_result"
    }
   ],
   "source": [
    "X_train"
   ]
  },
  {
   "cell_type": "code",
   "execution_count": 19,
   "id": "f42c1afa",
   "metadata": {},
   "outputs": [],
   "source": [
    "X_test= vectorizer.transform(df_test['content'].values.astype('U'))"
   ]
  },
  {
   "cell_type": "code",
   "execution_count": 22,
   "id": "ead7c6af",
   "metadata": {},
   "outputs": [],
   "source": [
    "Y_train = df_train['target']\n",
    "Y_test = df_test['target']"
   ]
  },
  {
   "cell_type": "code",
   "execution_count": 23,
   "id": "7bf4a3d5",
   "metadata": {},
   "outputs": [
    {
     "name": "stdout",
     "output_type": "stream",
     "text": [
      "Train acc: 0.8400342399265783\n",
      "Test acc: 0.8359002190732737\n"
     ]
    }
   ],
   "source": [
    "model = LogisticRegression(max_iter = 500)\n",
    "model.fit(X_train, Y_train)\n",
    "print(\"Train acc:\", model.score(X_train, Y_train))\n",
    "print(\"Test acc:\", model.score(X_test, Y_test))"
   ]
  },
  {
   "cell_type": "code",
   "execution_count": 24,
   "id": "68e9c913",
   "metadata": {},
   "outputs": [],
   "source": [
    "P_train = model.predict(X_train)\n",
    "P_test = model.predict(X_test)"
   ]
  },
  {
   "cell_type": "code",
   "execution_count": 25,
   "id": "04f332a3",
   "metadata": {},
   "outputs": [
    {
     "data": {
      "text/plain": [
       "array([[0.9105253 , 0.08600512, 0.00346958],\n",
       "       [0.09478058, 0.90043288, 0.00478655],\n",
       "       [0.54357812, 0.41580906, 0.04061283]])"
      ]
     },
     "execution_count": 25,
     "metadata": {},
     "output_type": "execute_result"
    }
   ],
   "source": [
    "cm = confusion_matrix(Y_train, P_train, normalize='true')\n",
    "cm"
   ]
  },
  {
   "cell_type": "code",
   "execution_count": 26,
   "id": "2edba92a",
   "metadata": {},
   "outputs": [
    {
     "data": {
      "image/png": "[encoded data removed]",
      "text/plain": [
       "<Figure size 640x480 with 2 Axes>"
      ]
     },
     "metadata": {},
     "output_type": "display_data"
    }
   ],
   "source": [
    "def plot_cm(cm):\n",
    "    classes = ['Negative', 'Positive', 'Neutral']\n",
    "    df_cm = pd.DataFrame(cm, index=classes, columns= classes)\n",
    "    ax = sn.heatmap(df_cm, annot =True, fmt ='g')\n",
    "    ax.set_xlabel(\"Predicted\")\n",
    "    ax.set_ylabel(\"Target\")\n",
    "plot_cm(cm)"
   ]
  },
  {
   "cell_type": "code",
   "execution_count": 28,
   "id": "fe3c4d29",
   "metadata": {},
   "outputs": [
    {
     "data": {
      "image/png": "[encoded data removed]",
      "text/plain": [
       "<Figure size 640x480 with 2 Axes>"
      ]
     },
     "metadata": {},
     "output_type": "display_data"
    }
   ],
   "source": [
    "cm_test = confusion_matrix(Y_test, P_test, normalize='true')\n",
    "plot_cm(cm_test)"
   ]
  },
  {
   "cell_type": "code",
   "execution_count": null,
   "id": "e137fbce",
   "metadata": {},
   "outputs": [],
   "source": []
  }
 ],
 "metadata": {
  "kernelspec": {
   "display_name": "Python 3 (ipykernel)",
   "language": "python",
   "name": "python3"
  },
  "language_info": {
   "codemirror_mode": {
    "name": "ipython",
    "version": 3
   },
   "file_extension": ".py",
   "mimetype": "text/x-python",
   "name": "python",
   "nbconvert_exporter": "python",
   "pygments_lexer": "ipython3",
   "version": "3.11.3"
  }
 },
 "nbformat": 4,
 "nbformat_minor": 5
}
